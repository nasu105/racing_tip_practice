{
 "cells": [
  {
   "cell_type": "code",
   "execution_count": 1,
   "metadata": {},
   "outputs": [],
   "source": [
    "# BeautifulSoupで競馬データを取得する"
   ]
  },
  {
   "cell_type": "code",
   "execution_count": 13,
   "metadata": {},
   "outputs": [],
   "source": [
    "import requests\n",
    "from bs4 import BeautifulSoup\n",
    "import pandas as pd\n",
    "\n",
    "race_id = '201901010101'\n",
    "url = 'https://db.netkeiba.com/race/' + race_id\n",
    "html = requests.get(url)\n",
    "html.encoding = 'EUC-JP'\n",
    "soup = BeautifulSoup(html.text, 'html.parser')\n",
    "\n",
    "# ピクルファイルからデータを読み込む\n",
    "results3 = pd.read_pickle('results.pickle')\n"
   ]
  },
  {
   "cell_type": "code",
   "execution_count": 6,
   "metadata": {},
   "outputs": [
    {
     "data": {
      "text/plain": [
       "'\\n\\n芝右1800m\\xa0/\\xa0天候 : 曇\\xa0/\\xa0芝 : 良\\xa0/\\xa0発走 : 09:50\\n\\n\\n'"
      ]
     },
     "execution_count": 6,
     "metadata": {},
     "output_type": "execute_result"
    }
   ],
   "source": [
    "soup.find('div', attrs={'class': 'data_intro'}).find_all('p')[0].text"
   ]
  },
  {
   "cell_type": "code",
   "execution_count": 7,
   "metadata": {},
   "outputs": [],
   "source": [
    "text = soup.find('div', attrs={'class': 'data_intro'}).find_all('p')[0].text"
   ]
  },
  {
   "cell_type": "code",
   "execution_count": 9,
   "metadata": {},
   "outputs": [
    {
     "data": {
      "text/plain": [
       "['芝右1800m', '天候', '曇', '芝', '良', '発走', '09', '50']"
      ]
     },
     "execution_count": 9,
     "metadata": {},
     "output_type": "execute_result"
    }
   ],
   "source": [
    "import re\n",
    "\n",
    "re.findall(r'\\w+', text)"
   ]
  },
  {
   "cell_type": "code",
   "execution_count": 10,
   "metadata": {},
   "outputs": [],
   "source": [
    "text2 = text = soup.find('div', attrs={'class': 'data_intro'}).find_all('p')[1].text"
   ]
  },
  {
   "cell_type": "code",
   "execution_count": 11,
   "metadata": {},
   "outputs": [
    {
     "data": {
      "text/plain": [
       "['2019年7月27日', '1回札幌1日目', '2歳未勝利', '混', '指', '馬齢']"
      ]
     },
     "execution_count": 11,
     "metadata": {},
     "output_type": "execute_result"
    }
   ],
   "source": [
    "re.findall(r'\\w+', text2)"
   ]
  },
  {
   "cell_type": "code",
   "execution_count": 26,
   "metadata": {},
   "outputs": [],
   "source": [
    "race_id_list = results3.index.unique()"
   ]
  },
  {
   "cell_type": "code",
   "execution_count": 21,
   "metadata": {},
   "outputs": [
    {
     "name": "stderr",
     "output_type": "stream",
     "text": [
      "100%|██████████| 50/50 [01:20<00:00,  1.61s/it]\n"
     ]
    }
   ],
   "source": [
    "import time\n",
    "from tqdm import tqdm\n",
    "\n",
    "race_infos = {}\n",
    "for race_id in tqdm(race_id_list):\n",
    "  url = 'https://db.netkeiba.com/race/' + race_id\n",
    "  html = requests.get(url)\n",
    "  html.encoding = 'EUC-JP'\n",
    "  soup = BeautifulSoup(html.text, 'html.parser')\n",
    "\n",
    "  texts = soup.find('div', attrs={'class': 'data_intro'}).find_all('p')[0].text + soup.find('div', attrs={'class': 'data_intro'}).find_all('p')[1].text\n",
    "  info = re.findall(r'\\w+', texts)\n",
    "  info_dict = {}\n",
    "  for text in info:\n",
    "    if text in ['芝', 'ダート']:\n",
    "      info_dict['race_type'] = text\n",
    "    if '障' in text:\n",
    "      info_dict['race_type'] = '障害'\n",
    "    if 'm' in text:\n",
    "      info_dict['course_len'] = re.findall(r'\\d+', text)[0]\n",
    "    if text in [\"良\", \"稍重\", \"重\", \"不良\"]:\n",
    "      info_dict['ground_state'] = text\n",
    "    if text in ['曇', '晴', '雨', '小雨', '小雪', '雪']:\n",
    "      info_dict['weather'] = text\n",
    "    if '年' in text:\n",
    "      info_dict['date'] = text\n",
    "  race_infos[race_id] = info_dict\n",
    "  time.sleep(1)"
   ]
  },
  {
   "cell_type": "code",
   "execution_count": 22,
   "metadata": {},
   "outputs": [
    {
     "data": {
      "text/html": [
       "<div>\n",
       "<style scoped>\n",
       "    .dataframe tbody tr th:only-of-type {\n",
       "        vertical-align: middle;\n",
       "    }\n",
       "\n",
       "    .dataframe tbody tr th {\n",
       "        vertical-align: top;\n",
       "    }\n",
       "\n",
       "    .dataframe thead th {\n",
       "        text-align: right;\n",
       "    }\n",
       "</style>\n",
       "<table border=\"1\" class=\"dataframe\">\n",
       "  <thead>\n",
       "    <tr style=\"text-align: right;\">\n",
       "      <th></th>\n",
       "      <th>course_len</th>\n",
       "      <th>weather</th>\n",
       "      <th>race_type</th>\n",
       "      <th>ground_state</th>\n",
       "      <th>date</th>\n",
       "    </tr>\n",
       "  </thead>\n",
       "  <tbody>\n",
       "    <tr>\n",
       "      <th>201902010101</th>\n",
       "      <td>1200</td>\n",
       "      <td>曇</td>\n",
       "      <td>芝</td>\n",
       "      <td>良</td>\n",
       "      <td>2019年6月15日</td>\n",
       "    </tr>\n",
       "    <tr>\n",
       "      <th>201902010102</th>\n",
       "      <td>1700</td>\n",
       "      <td>曇</td>\n",
       "      <td>ダート</td>\n",
       "      <td>良</td>\n",
       "      <td>2019年6月15日</td>\n",
       "    </tr>\n",
       "    <tr>\n",
       "      <th>201902010103</th>\n",
       "      <td>1000</td>\n",
       "      <td>曇</td>\n",
       "      <td>ダート</td>\n",
       "      <td>良</td>\n",
       "      <td>2019年6月15日</td>\n",
       "    </tr>\n",
       "    <tr>\n",
       "      <th>201901010101</th>\n",
       "      <td>1800</td>\n",
       "      <td>曇</td>\n",
       "      <td>芝</td>\n",
       "      <td>良</td>\n",
       "      <td>2019年7月27日</td>\n",
       "    </tr>\n",
       "    <tr>\n",
       "      <th>201901010102</th>\n",
       "      <td>1000</td>\n",
       "      <td>曇</td>\n",
       "      <td>ダート</td>\n",
       "      <td>良</td>\n",
       "      <td>2019年7月27日</td>\n",
       "    </tr>\n",
       "    <tr>\n",
       "      <th>201901010103</th>\n",
       "      <td>2400</td>\n",
       "      <td>曇</td>\n",
       "      <td>ダート</td>\n",
       "      <td>良</td>\n",
       "      <td>2019年7月27日</td>\n",
       "    </tr>\n",
       "    <tr>\n",
       "      <th>201901010104</th>\n",
       "      <td>2000</td>\n",
       "      <td>晴</td>\n",
       "      <td>芝</td>\n",
       "      <td>良</td>\n",
       "      <td>2019年7月27日</td>\n",
       "    </tr>\n",
       "    <tr>\n",
       "      <th>201901010105</th>\n",
       "      <td>1500</td>\n",
       "      <td>晴</td>\n",
       "      <td>芝</td>\n",
       "      <td>良</td>\n",
       "      <td>2019年7月27日</td>\n",
       "    </tr>\n",
       "    <tr>\n",
       "      <th>201901010106</th>\n",
       "      <td>1700</td>\n",
       "      <td>晴</td>\n",
       "      <td>ダート</td>\n",
       "      <td>良</td>\n",
       "      <td>2019年7月27日</td>\n",
       "    </tr>\n",
       "    <tr>\n",
       "      <th>201901010107</th>\n",
       "      <td>1000</td>\n",
       "      <td>晴</td>\n",
       "      <td>ダート</td>\n",
       "      <td>良</td>\n",
       "      <td>2019年7月27日</td>\n",
       "    </tr>\n",
       "    <tr>\n",
       "      <th>201901010108</th>\n",
       "      <td>1200</td>\n",
       "      <td>晴</td>\n",
       "      <td>芝</td>\n",
       "      <td>良</td>\n",
       "      <td>2019年7月27日</td>\n",
       "    </tr>\n",
       "    <tr>\n",
       "      <th>201901010109</th>\n",
       "      <td>1700</td>\n",
       "      <td>晴</td>\n",
       "      <td>ダート</td>\n",
       "      <td>良</td>\n",
       "      <td>2019年7月27日</td>\n",
       "    </tr>\n",
       "    <tr>\n",
       "      <th>201901010110</th>\n",
       "      <td>1500</td>\n",
       "      <td>晴</td>\n",
       "      <td>芝</td>\n",
       "      <td>良</td>\n",
       "      <td>2019年7月27日</td>\n",
       "    </tr>\n",
       "    <tr>\n",
       "      <th>201901010111</th>\n",
       "      <td>1800</td>\n",
       "      <td>晴</td>\n",
       "      <td>芝</td>\n",
       "      <td>良</td>\n",
       "      <td>2019年7月27日</td>\n",
       "    </tr>\n",
       "    <tr>\n",
       "      <th>201901010112</th>\n",
       "      <td>2600</td>\n",
       "      <td>晴</td>\n",
       "      <td>芝</td>\n",
       "      <td>良</td>\n",
       "      <td>2019年7月27日</td>\n",
       "    </tr>\n",
       "    <tr>\n",
       "      <th>201901010201</th>\n",
       "      <td>1200</td>\n",
       "      <td>晴</td>\n",
       "      <td>芝</td>\n",
       "      <td>良</td>\n",
       "      <td>2019年7月28日</td>\n",
       "    </tr>\n",
       "    <tr>\n",
       "      <th>201901010202</th>\n",
       "      <td>1000</td>\n",
       "      <td>晴</td>\n",
       "      <td>ダート</td>\n",
       "      <td>良</td>\n",
       "      <td>2019年7月28日</td>\n",
       "    </tr>\n",
       "    <tr>\n",
       "      <th>201901010203</th>\n",
       "      <td>1700</td>\n",
       "      <td>晴</td>\n",
       "      <td>ダート</td>\n",
       "      <td>良</td>\n",
       "      <td>2019年7月28日</td>\n",
       "    </tr>\n",
       "    <tr>\n",
       "      <th>201901010204</th>\n",
       "      <td>1500</td>\n",
       "      <td>晴</td>\n",
       "      <td>芝</td>\n",
       "      <td>良</td>\n",
       "      <td>2019年7月28日</td>\n",
       "    </tr>\n",
       "    <tr>\n",
       "      <th>201901010205</th>\n",
       "      <td>1800</td>\n",
       "      <td>晴</td>\n",
       "      <td>芝</td>\n",
       "      <td>良</td>\n",
       "      <td>2019年7月28日</td>\n",
       "    </tr>\n",
       "    <tr>\n",
       "      <th>201901010206</th>\n",
       "      <td>1700</td>\n",
       "      <td>晴</td>\n",
       "      <td>ダート</td>\n",
       "      <td>良</td>\n",
       "      <td>2019年7月28日</td>\n",
       "    </tr>\n",
       "    <tr>\n",
       "      <th>201901010207</th>\n",
       "      <td>2000</td>\n",
       "      <td>晴</td>\n",
       "      <td>芝</td>\n",
       "      <td>良</td>\n",
       "      <td>2019年7月28日</td>\n",
       "    </tr>\n",
       "    <tr>\n",
       "      <th>201901010208</th>\n",
       "      <td>1800</td>\n",
       "      <td>晴</td>\n",
       "      <td>芝</td>\n",
       "      <td>良</td>\n",
       "      <td>2019年7月28日</td>\n",
       "    </tr>\n",
       "    <tr>\n",
       "      <th>201901010209</th>\n",
       "      <td>1700</td>\n",
       "      <td>晴</td>\n",
       "      <td>ダート</td>\n",
       "      <td>良</td>\n",
       "      <td>2019年7月28日</td>\n",
       "    </tr>\n",
       "    <tr>\n",
       "      <th>201901010210</th>\n",
       "      <td>1500</td>\n",
       "      <td>晴</td>\n",
       "      <td>芝</td>\n",
       "      <td>良</td>\n",
       "      <td>2019年7月28日</td>\n",
       "    </tr>\n",
       "    <tr>\n",
       "      <th>201901010211</th>\n",
       "      <td>1800</td>\n",
       "      <td>晴</td>\n",
       "      <td>芝</td>\n",
       "      <td>良</td>\n",
       "      <td>2019年7月28日</td>\n",
       "    </tr>\n",
       "    <tr>\n",
       "      <th>201901010212</th>\n",
       "      <td>1700</td>\n",
       "      <td>晴</td>\n",
       "      <td>ダート</td>\n",
       "      <td>良</td>\n",
       "      <td>2019年7月28日</td>\n",
       "    </tr>\n",
       "    <tr>\n",
       "      <th>201901010301</th>\n",
       "      <td>1000</td>\n",
       "      <td>晴</td>\n",
       "      <td>ダート</td>\n",
       "      <td>良</td>\n",
       "      <td>2019年8月3日</td>\n",
       "    </tr>\n",
       "    <tr>\n",
       "      <th>201901010302</th>\n",
       "      <td>1700</td>\n",
       "      <td>晴</td>\n",
       "      <td>ダート</td>\n",
       "      <td>良</td>\n",
       "      <td>2019年8月3日</td>\n",
       "    </tr>\n",
       "    <tr>\n",
       "      <th>201901010303</th>\n",
       "      <td>1200</td>\n",
       "      <td>晴</td>\n",
       "      <td>芝</td>\n",
       "      <td>良</td>\n",
       "      <td>2019年8月3日</td>\n",
       "    </tr>\n",
       "    <tr>\n",
       "      <th>201901010304</th>\n",
       "      <td>1700</td>\n",
       "      <td>晴</td>\n",
       "      <td>ダート</td>\n",
       "      <td>良</td>\n",
       "      <td>2019年8月3日</td>\n",
       "    </tr>\n",
       "    <tr>\n",
       "      <th>201901010305</th>\n",
       "      <td>1200</td>\n",
       "      <td>晴</td>\n",
       "      <td>芝</td>\n",
       "      <td>良</td>\n",
       "      <td>2019年8月3日</td>\n",
       "    </tr>\n",
       "    <tr>\n",
       "      <th>201901010306</th>\n",
       "      <td>2000</td>\n",
       "      <td>晴</td>\n",
       "      <td>芝</td>\n",
       "      <td>良</td>\n",
       "      <td>2019年8月3日</td>\n",
       "    </tr>\n",
       "    <tr>\n",
       "      <th>201901010307</th>\n",
       "      <td>1700</td>\n",
       "      <td>晴</td>\n",
       "      <td>ダート</td>\n",
       "      <td>良</td>\n",
       "      <td>2019年8月3日</td>\n",
       "    </tr>\n",
       "    <tr>\n",
       "      <th>201901010308</th>\n",
       "      <td>1800</td>\n",
       "      <td>晴</td>\n",
       "      <td>芝</td>\n",
       "      <td>良</td>\n",
       "      <td>2019年8月3日</td>\n",
       "    </tr>\n",
       "    <tr>\n",
       "      <th>201901010309</th>\n",
       "      <td>2000</td>\n",
       "      <td>晴</td>\n",
       "      <td>芝</td>\n",
       "      <td>良</td>\n",
       "      <td>2019年8月3日</td>\n",
       "    </tr>\n",
       "    <tr>\n",
       "      <th>201901010310</th>\n",
       "      <td>1000</td>\n",
       "      <td>晴</td>\n",
       "      <td>ダート</td>\n",
       "      <td>良</td>\n",
       "      <td>2019年8月3日</td>\n",
       "    </tr>\n",
       "    <tr>\n",
       "      <th>201901010311</th>\n",
       "      <td>2600</td>\n",
       "      <td>晴</td>\n",
       "      <td>芝</td>\n",
       "      <td>良</td>\n",
       "      <td>2019年8月3日</td>\n",
       "    </tr>\n",
       "    <tr>\n",
       "      <th>201901010312</th>\n",
       "      <td>1200</td>\n",
       "      <td>晴</td>\n",
       "      <td>芝</td>\n",
       "      <td>良</td>\n",
       "      <td>2019年8月3日</td>\n",
       "    </tr>\n",
       "    <tr>\n",
       "      <th>201901010401</th>\n",
       "      <td>1500</td>\n",
       "      <td>晴</td>\n",
       "      <td>芝</td>\n",
       "      <td>良</td>\n",
       "      <td>2019年8月4日</td>\n",
       "    </tr>\n",
       "    <tr>\n",
       "      <th>201901010402</th>\n",
       "      <td>1000</td>\n",
       "      <td>晴</td>\n",
       "      <td>ダート</td>\n",
       "      <td>良</td>\n",
       "      <td>2019年8月4日</td>\n",
       "    </tr>\n",
       "    <tr>\n",
       "      <th>201901010403</th>\n",
       "      <td>1700</td>\n",
       "      <td>晴</td>\n",
       "      <td>ダート</td>\n",
       "      <td>良</td>\n",
       "      <td>2019年8月4日</td>\n",
       "    </tr>\n",
       "    <tr>\n",
       "      <th>201901010404</th>\n",
       "      <td>2000</td>\n",
       "      <td>晴</td>\n",
       "      <td>芝</td>\n",
       "      <td>良</td>\n",
       "      <td>2019年8月4日</td>\n",
       "    </tr>\n",
       "    <tr>\n",
       "      <th>201901010405</th>\n",
       "      <td>1800</td>\n",
       "      <td>晴</td>\n",
       "      <td>芝</td>\n",
       "      <td>良</td>\n",
       "      <td>2019年8月4日</td>\n",
       "    </tr>\n",
       "    <tr>\n",
       "      <th>201901010406</th>\n",
       "      <td>1000</td>\n",
       "      <td>晴</td>\n",
       "      <td>ダート</td>\n",
       "      <td>良</td>\n",
       "      <td>2019年8月4日</td>\n",
       "    </tr>\n",
       "    <tr>\n",
       "      <th>201901010407</th>\n",
       "      <td>2600</td>\n",
       "      <td>晴</td>\n",
       "      <td>芝</td>\n",
       "      <td>良</td>\n",
       "      <td>2019年8月4日</td>\n",
       "    </tr>\n",
       "    <tr>\n",
       "      <th>201901010408</th>\n",
       "      <td>1700</td>\n",
       "      <td>晴</td>\n",
       "      <td>ダート</td>\n",
       "      <td>良</td>\n",
       "      <td>2019年8月4日</td>\n",
       "    </tr>\n",
       "    <tr>\n",
       "      <th>201901010409</th>\n",
       "      <td>1200</td>\n",
       "      <td>晴</td>\n",
       "      <td>芝</td>\n",
       "      <td>良</td>\n",
       "      <td>2019年8月4日</td>\n",
       "    </tr>\n",
       "    <tr>\n",
       "      <th>201901010410</th>\n",
       "      <td>1800</td>\n",
       "      <td>晴</td>\n",
       "      <td>芝</td>\n",
       "      <td>良</td>\n",
       "      <td>2019年8月4日</td>\n",
       "    </tr>\n",
       "    <tr>\n",
       "      <th>201901010411</th>\n",
       "      <td>1200</td>\n",
       "      <td>晴</td>\n",
       "      <td>芝</td>\n",
       "      <td>良</td>\n",
       "      <td>2019年8月4日</td>\n",
       "    </tr>\n",
       "  </tbody>\n",
       "</table>\n",
       "</div>"
      ],
      "text/plain": [
       "             course_len weather race_type ground_state        date\n",
       "201902010101       1200       曇         芝            良  2019年6月15日\n",
       "201902010102       1700       曇       ダート            良  2019年6月15日\n",
       "201902010103       1000       曇       ダート            良  2019年6月15日\n",
       "201901010101       1800       曇         芝            良  2019年7月27日\n",
       "201901010102       1000       曇       ダート            良  2019年7月27日\n",
       "201901010103       2400       曇       ダート            良  2019年7月27日\n",
       "201901010104       2000       晴         芝            良  2019年7月27日\n",
       "201901010105       1500       晴         芝            良  2019年7月27日\n",
       "201901010106       1700       晴       ダート            良  2019年7月27日\n",
       "201901010107       1000       晴       ダート            良  2019年7月27日\n",
       "201901010108       1200       晴         芝            良  2019年7月27日\n",
       "201901010109       1700       晴       ダート            良  2019年7月27日\n",
       "201901010110       1500       晴         芝            良  2019年7月27日\n",
       "201901010111       1800       晴         芝            良  2019年7月27日\n",
       "201901010112       2600       晴         芝            良  2019年7月27日\n",
       "201901010201       1200       晴         芝            良  2019年7月28日\n",
       "201901010202       1000       晴       ダート            良  2019年7月28日\n",
       "201901010203       1700       晴       ダート            良  2019年7月28日\n",
       "201901010204       1500       晴         芝            良  2019年7月28日\n",
       "201901010205       1800       晴         芝            良  2019年7月28日\n",
       "201901010206       1700       晴       ダート            良  2019年7月28日\n",
       "201901010207       2000       晴         芝            良  2019年7月28日\n",
       "201901010208       1800       晴         芝            良  2019年7月28日\n",
       "201901010209       1700       晴       ダート            良  2019年7月28日\n",
       "201901010210       1500       晴         芝            良  2019年7月28日\n",
       "201901010211       1800       晴         芝            良  2019年7月28日\n",
       "201901010212       1700       晴       ダート            良  2019年7月28日\n",
       "201901010301       1000       晴       ダート            良   2019年8月3日\n",
       "201901010302       1700       晴       ダート            良   2019年8月3日\n",
       "201901010303       1200       晴         芝            良   2019年8月3日\n",
       "201901010304       1700       晴       ダート            良   2019年8月3日\n",
       "201901010305       1200       晴         芝            良   2019年8月3日\n",
       "201901010306       2000       晴         芝            良   2019年8月3日\n",
       "201901010307       1700       晴       ダート            良   2019年8月3日\n",
       "201901010308       1800       晴         芝            良   2019年8月3日\n",
       "201901010309       2000       晴         芝            良   2019年8月3日\n",
       "201901010310       1000       晴       ダート            良   2019年8月3日\n",
       "201901010311       2600       晴         芝            良   2019年8月3日\n",
       "201901010312       1200       晴         芝            良   2019年8月3日\n",
       "201901010401       1500       晴         芝            良   2019年8月4日\n",
       "201901010402       1000       晴       ダート            良   2019年8月4日\n",
       "201901010403       1700       晴       ダート            良   2019年8月4日\n",
       "201901010404       2000       晴         芝            良   2019年8月4日\n",
       "201901010405       1800       晴         芝            良   2019年8月4日\n",
       "201901010406       1000       晴       ダート            良   2019年8月4日\n",
       "201901010407       2600       晴         芝            良   2019年8月4日\n",
       "201901010408       1700       晴       ダート            良   2019年8月4日\n",
       "201901010409       1200       晴         芝            良   2019年8月4日\n",
       "201901010410       1800       晴         芝            良   2019年8月4日\n",
       "201901010411       1200       晴         芝            良   2019年8月4日"
      ]
     },
     "execution_count": 22,
     "metadata": {},
     "output_type": "execute_result"
    }
   ],
   "source": [
    "pd.DataFrame(race_infos).T"
   ]
  },
  {
   "cell_type": "code",
   "execution_count": 23,
   "metadata": {},
   "outputs": [],
   "source": [
    "def scrape_race_info(race_id_list):\n",
    "  race_infos = {}\n",
    "  for race_id in tqdm(race_id_list):\n",
    "    time.sleep(1)\n",
    "    try:\n",
    "      url = \"https://db.netkeiba.com/race/\" + race_id\n",
    "      html = requests.get(url)\n",
    "      html.encoding = \"EUC-JP\"\n",
    "      soup = BeautifulSoup(html.text, \"html.parser\")\n",
    "\n",
    "      texts = (\n",
    "          soup.find(\"div\", attrs={\"class\": \"data_intro\"}).find_all(\"p\")[0].text\n",
    "          + soup.find(\"div\", attrs={\"class\": \"data_intro\"}).find_all(\"p\")[1].text\n",
    "      )\n",
    "      info = re.findall(r\"\\w+\", texts)\n",
    "      info_dict = {}\n",
    "      for text in info:\n",
    "          if text in [\"芝\", \"ダート\"]:\n",
    "              info_dict[\"race_type\"] = text\n",
    "          if \"障\" in text:\n",
    "              info_dict[\"race_type\"] = \"障害\"\n",
    "          if \"m\" in text:\n",
    "              info_dict[\"course_len\"] = int(re.findall(r\"\\d+\", text)[0])\n",
    "          if text in [\"良\", \"稍重\", \"重\", \"不良\"]:\n",
    "              info_dict[\"ground_state\"] = text\n",
    "          if text in [\"曇\", \"晴\", \"雨\", \"小雨\", \"小雪\", \"雪\"]:\n",
    "              info_dict[\"weather\"] = text\n",
    "          if \"年\" in text:\n",
    "              info_dict[\"date\"] = text\n",
    "      race_infos[race_id] = info_dict\n",
    "    except IndexError:\n",
    "        continue\n",
    "    except AttributeError: #存在しないrace_idでAttributeErrorになるページもあるので追加\n",
    "        continue\n",
    "    except Exception as e:\n",
    "        print(e)\n",
    "        break\n",
    "    except:\n",
    "        break\n",
    "  return race_infos"
   ]
  },
  {
   "cell_type": "code",
   "execution_count": 27,
   "metadata": {},
   "outputs": [
    {
     "name": "stderr",
     "output_type": "stream",
     "text": [
      "100%|██████████| 3188/3188 [1:28:20<00:00,  1.66s/it]\n"
     ]
    }
   ],
   "source": [
    "race_infos = scrape_race_info(race_id_list)"
   ]
  },
  {
   "cell_type": "code",
   "execution_count": 38,
   "metadata": {},
   "outputs": [],
   "source": [
    "race_infos = pd.DataFrame(race_infos).T"
   ]
  },
  {
   "cell_type": "code",
   "execution_count": 39,
   "metadata": {},
   "outputs": [
    {
     "data": {
      "text/html": [
       "<div>\n",
       "<style scoped>\n",
       "    .dataframe tbody tr th:only-of-type {\n",
       "        vertical-align: middle;\n",
       "    }\n",
       "\n",
       "    .dataframe tbody tr th {\n",
       "        vertical-align: top;\n",
       "    }\n",
       "\n",
       "    .dataframe thead th {\n",
       "        text-align: right;\n",
       "    }\n",
       "</style>\n",
       "<table border=\"1\" class=\"dataframe\">\n",
       "  <thead>\n",
       "    <tr style=\"text-align: right;\">\n",
       "      <th></th>\n",
       "      <th>course_len</th>\n",
       "      <th>weather</th>\n",
       "      <th>race_type</th>\n",
       "      <th>ground_state</th>\n",
       "      <th>date</th>\n",
       "    </tr>\n",
       "  </thead>\n",
       "  <tbody>\n",
       "    <tr>\n",
       "      <th>201902010101</th>\n",
       "      <td>1200</td>\n",
       "      <td>曇</td>\n",
       "      <td>芝</td>\n",
       "      <td>良</td>\n",
       "      <td>2019年6月15日</td>\n",
       "    </tr>\n",
       "    <tr>\n",
       "      <th>201902010102</th>\n",
       "      <td>1700</td>\n",
       "      <td>曇</td>\n",
       "      <td>ダート</td>\n",
       "      <td>良</td>\n",
       "      <td>2019年6月15日</td>\n",
       "    </tr>\n",
       "    <tr>\n",
       "      <th>201902010103</th>\n",
       "      <td>1000</td>\n",
       "      <td>曇</td>\n",
       "      <td>ダート</td>\n",
       "      <td>良</td>\n",
       "      <td>2019年6月15日</td>\n",
       "    </tr>\n",
       "    <tr>\n",
       "      <th>201901010101</th>\n",
       "      <td>1800</td>\n",
       "      <td>曇</td>\n",
       "      <td>芝</td>\n",
       "      <td>良</td>\n",
       "      <td>2019年7月27日</td>\n",
       "    </tr>\n",
       "    <tr>\n",
       "      <th>201901010102</th>\n",
       "      <td>1000</td>\n",
       "      <td>曇</td>\n",
       "      <td>ダート</td>\n",
       "      <td>良</td>\n",
       "      <td>2019年7月27日</td>\n",
       "    </tr>\n",
       "    <tr>\n",
       "      <th>...</th>\n",
       "      <td>...</td>\n",
       "      <td>...</td>\n",
       "      <td>...</td>\n",
       "      <td>...</td>\n",
       "      <td>...</td>\n",
       "    </tr>\n",
       "    <tr>\n",
       "      <th>201910020808</th>\n",
       "      <td>1000</td>\n",
       "      <td>曇</td>\n",
       "      <td>ダート</td>\n",
       "      <td>稍重</td>\n",
       "      <td>2019年8月18日</td>\n",
       "    </tr>\n",
       "    <tr>\n",
       "      <th>201910020809</th>\n",
       "      <td>1700</td>\n",
       "      <td>曇</td>\n",
       "      <td>ダート</td>\n",
       "      <td>稍重</td>\n",
       "      <td>2019年8月18日</td>\n",
       "    </tr>\n",
       "    <tr>\n",
       "      <th>201910020810</th>\n",
       "      <td>1800</td>\n",
       "      <td>曇</td>\n",
       "      <td>芝</td>\n",
       "      <td>良</td>\n",
       "      <td>2019年8月18日</td>\n",
       "    </tr>\n",
       "    <tr>\n",
       "      <th>201910020811</th>\n",
       "      <td>1200</td>\n",
       "      <td>曇</td>\n",
       "      <td>芝</td>\n",
       "      <td>良</td>\n",
       "      <td>2019年8月18日</td>\n",
       "    </tr>\n",
       "    <tr>\n",
       "      <th>201910020812</th>\n",
       "      <td>1800</td>\n",
       "      <td>曇</td>\n",
       "      <td>芝</td>\n",
       "      <td>良</td>\n",
       "      <td>2019年8月18日</td>\n",
       "    </tr>\n",
       "  </tbody>\n",
       "</table>\n",
       "<p>3188 rows × 5 columns</p>\n",
       "</div>"
      ],
      "text/plain": [
       "             course_len weather race_type ground_state        date\n",
       "201902010101       1200       曇         芝            良  2019年6月15日\n",
       "201902010102       1700       曇       ダート            良  2019年6月15日\n",
       "201902010103       1000       曇       ダート            良  2019年6月15日\n",
       "201901010101       1800       曇         芝            良  2019年7月27日\n",
       "201901010102       1000       曇       ダート            良  2019年7月27日\n",
       "...                 ...     ...       ...          ...         ...\n",
       "201910020808       1000       曇       ダート           稍重  2019年8月18日\n",
       "201910020809       1700       曇       ダート           稍重  2019年8月18日\n",
       "201910020810       1800       曇         芝            良  2019年8月18日\n",
       "201910020811       1200       曇         芝            良  2019年8月18日\n",
       "201910020812       1800       曇         芝            良  2019年8月18日\n",
       "\n",
       "[3188 rows x 5 columns]"
      ]
     },
     "execution_count": 39,
     "metadata": {},
     "output_type": "execute_result"
    }
   ],
   "source": [
    "race_infos"
   ]
  },
  {
   "cell_type": "code",
   "execution_count": 40,
   "metadata": {},
   "outputs": [
    {
     "data": {
      "text/html": [
       "<div>\n",
       "<style scoped>\n",
       "    .dataframe tbody tr th:only-of-type {\n",
       "        vertical-align: middle;\n",
       "    }\n",
       "\n",
       "    .dataframe tbody tr th {\n",
       "        vertical-align: top;\n",
       "    }\n",
       "\n",
       "    .dataframe thead th {\n",
       "        text-align: right;\n",
       "    }\n",
       "</style>\n",
       "<table border=\"1\" class=\"dataframe\">\n",
       "  <thead>\n",
       "    <tr style=\"text-align: right;\">\n",
       "      <th></th>\n",
       "      <th>着 順</th>\n",
       "      <th>枠 番</th>\n",
       "      <th>馬 番</th>\n",
       "      <th>馬名</th>\n",
       "      <th>性齢</th>\n",
       "      <th>斤量</th>\n",
       "      <th>騎手</th>\n",
       "      <th>タイム</th>\n",
       "      <th>着差</th>\n",
       "      <th>単勝</th>\n",
       "      <th>人 気</th>\n",
       "      <th>馬体重</th>\n",
       "      <th>調教師</th>\n",
       "    </tr>\n",
       "  </thead>\n",
       "  <tbody>\n",
       "    <tr>\n",
       "      <th>201902010101</th>\n",
       "      <td>1</td>\n",
       "      <td>6</td>\n",
       "      <td>12</td>\n",
       "      <td>アドマイヤデルタ</td>\n",
       "      <td>牡3</td>\n",
       "      <td>56.0</td>\n",
       "      <td>吉田隼人</td>\n",
       "      <td>1:08.9</td>\n",
       "      <td>NaN</td>\n",
       "      <td>4.0</td>\n",
       "      <td>3.0</td>\n",
       "      <td>490(+32)</td>\n",
       "      <td>[西] 西村真幸</td>\n",
       "    </tr>\n",
       "    <tr>\n",
       "      <th>201902010101</th>\n",
       "      <td>2</td>\n",
       "      <td>3</td>\n",
       "      <td>5</td>\n",
       "      <td>ティレニア</td>\n",
       "      <td>牝3</td>\n",
       "      <td>54.0</td>\n",
       "      <td>藤岡佑介</td>\n",
       "      <td>1:09.1</td>\n",
       "      <td>1.1/2</td>\n",
       "      <td>3.7</td>\n",
       "      <td>2.0</td>\n",
       "      <td>442(+4)</td>\n",
       "      <td>[西] 高橋亮</td>\n",
       "    </tr>\n",
       "    <tr>\n",
       "      <th>201902010101</th>\n",
       "      <td>3</td>\n",
       "      <td>4</td>\n",
       "      <td>7</td>\n",
       "      <td>ドゥシャンパーニュ</td>\n",
       "      <td>牝3</td>\n",
       "      <td>54.0</td>\n",
       "      <td>北村友一</td>\n",
       "      <td>1:09.3</td>\n",
       "      <td>1</td>\n",
       "      <td>2.9</td>\n",
       "      <td>1.0</td>\n",
       "      <td>428(-4)</td>\n",
       "      <td>[西] 安田翔伍</td>\n",
       "    </tr>\n",
       "    <tr>\n",
       "      <th>201902010101</th>\n",
       "      <td>4</td>\n",
       "      <td>5</td>\n",
       "      <td>10</td>\n",
       "      <td>シャイニーブランコ</td>\n",
       "      <td>牡3</td>\n",
       "      <td>56.0</td>\n",
       "      <td>岩田康誠</td>\n",
       "      <td>1:09.5</td>\n",
       "      <td>1.1/2</td>\n",
       "      <td>10.3</td>\n",
       "      <td>5.0</td>\n",
       "      <td>442(+2)</td>\n",
       "      <td>[西] 石坂正</td>\n",
       "    </tr>\n",
       "    <tr>\n",
       "      <th>201902010101</th>\n",
       "      <td>5</td>\n",
       "      <td>4</td>\n",
       "      <td>8</td>\n",
       "      <td>シュンカジョウ</td>\n",
       "      <td>牝3</td>\n",
       "      <td>54.0</td>\n",
       "      <td>松岡正海</td>\n",
       "      <td>1:09.6</td>\n",
       "      <td>クビ</td>\n",
       "      <td>57.5</td>\n",
       "      <td>8.0</td>\n",
       "      <td>438(+14)</td>\n",
       "      <td>[西] 藤岡健一</td>\n",
       "    </tr>\n",
       "    <tr>\n",
       "      <th>...</th>\n",
       "      <td>...</td>\n",
       "      <td>...</td>\n",
       "      <td>...</td>\n",
       "      <td>...</td>\n",
       "      <td>...</td>\n",
       "      <td>...</td>\n",
       "      <td>...</td>\n",
       "      <td>...</td>\n",
       "      <td>...</td>\n",
       "      <td>...</td>\n",
       "      <td>...</td>\n",
       "      <td>...</td>\n",
       "      <td>...</td>\n",
       "    </tr>\n",
       "    <tr>\n",
       "      <th>201910020812</th>\n",
       "      <td>10</td>\n",
       "      <td>7</td>\n",
       "      <td>12</td>\n",
       "      <td>オーシャンスケイプ</td>\n",
       "      <td>牝3</td>\n",
       "      <td>52.0</td>\n",
       "      <td>大野拓弥</td>\n",
       "      <td>1:49.8</td>\n",
       "      <td>3/4</td>\n",
       "      <td>45.7</td>\n",
       "      <td>10.0</td>\n",
       "      <td>414(+6)</td>\n",
       "      <td>[西] 西村真幸</td>\n",
       "    </tr>\n",
       "    <tr>\n",
       "      <th>201910020812</th>\n",
       "      <td>11</td>\n",
       "      <td>3</td>\n",
       "      <td>3</td>\n",
       "      <td>プリヴェット</td>\n",
       "      <td>牝4</td>\n",
       "      <td>55.0</td>\n",
       "      <td>藤岡康太</td>\n",
       "      <td>1:50.3</td>\n",
       "      <td>3</td>\n",
       "      <td>29.8</td>\n",
       "      <td>9.0</td>\n",
       "      <td>486(+2)</td>\n",
       "      <td>[西] 今野貞一</td>\n",
       "    </tr>\n",
       "    <tr>\n",
       "      <th>201910020812</th>\n",
       "      <td>12</td>\n",
       "      <td>5</td>\n",
       "      <td>7</td>\n",
       "      <td>アドマイヤクィーン</td>\n",
       "      <td>牝4</td>\n",
       "      <td>55.0</td>\n",
       "      <td>松山弘平</td>\n",
       "      <td>1:50.3</td>\n",
       "      <td>クビ</td>\n",
       "      <td>29.6</td>\n",
       "      <td>8.0</td>\n",
       "      <td>476(+6)</td>\n",
       "      <td>[西] 須貝尚介</td>\n",
       "    </tr>\n",
       "    <tr>\n",
       "      <th>201910020812</th>\n",
       "      <td>13</td>\n",
       "      <td>8</td>\n",
       "      <td>13</td>\n",
       "      <td>タムロドリーム</td>\n",
       "      <td>牝3</td>\n",
       "      <td>49.0</td>\n",
       "      <td>亀田温心</td>\n",
       "      <td>1:50.4</td>\n",
       "      <td>1/2</td>\n",
       "      <td>134.8</td>\n",
       "      <td>12.0</td>\n",
       "      <td>472(+2)</td>\n",
       "      <td>[西] 西園正都</td>\n",
       "    </tr>\n",
       "    <tr>\n",
       "      <th>201910020812</th>\n",
       "      <td>14</td>\n",
       "      <td>2</td>\n",
       "      <td>2</td>\n",
       "      <td>バッカーノ</td>\n",
       "      <td>牝3</td>\n",
       "      <td>52.0</td>\n",
       "      <td>秋山真一</td>\n",
       "      <td>1:54.3</td>\n",
       "      <td>大</td>\n",
       "      <td>149.4</td>\n",
       "      <td>13.0</td>\n",
       "      <td>458(-6)</td>\n",
       "      <td>[西] 鈴木孝志</td>\n",
       "    </tr>\n",
       "  </tbody>\n",
       "</table>\n",
       "<p>43738 rows × 13 columns</p>\n",
       "</div>"
      ],
      "text/plain": [
       "             着 順  枠 番  馬 番         馬名  性齢    斤量    騎手     タイム     着差     単勝  \\\n",
       "201902010101   1    6   12   アドマイヤデルタ  牡3  56.0  吉田隼人  1:08.9    NaN    4.0   \n",
       "201902010101   2    3    5      ティレニア  牝3  54.0  藤岡佑介  1:09.1  1.1/2    3.7   \n",
       "201902010101   3    4    7  ドゥシャンパーニュ  牝3  54.0  北村友一  1:09.3      1    2.9   \n",
       "201902010101   4    5   10  シャイニーブランコ  牡3  56.0  岩田康誠  1:09.5  1.1/2   10.3   \n",
       "201902010101   5    4    8    シュンカジョウ  牝3  54.0  松岡正海  1:09.6     クビ   57.5   \n",
       "...           ..  ...  ...        ...  ..   ...   ...     ...    ...    ...   \n",
       "201910020812  10    7   12  オーシャンスケイプ  牝3  52.0  大野拓弥  1:49.8    3/4   45.7   \n",
       "201910020812  11    3    3     プリヴェット  牝4  55.0  藤岡康太  1:50.3      3   29.8   \n",
       "201910020812  12    5    7  アドマイヤクィーン  牝4  55.0  松山弘平  1:50.3     クビ   29.6   \n",
       "201910020812  13    8   13    タムロドリーム  牝3  49.0  亀田温心  1:50.4    1/2  134.8   \n",
       "201910020812  14    2    2      バッカーノ  牝3  52.0  秋山真一  1:54.3      大  149.4   \n",
       "\n",
       "               人 気       馬体重       調教師  \n",
       "201902010101   3.0  490(+32)  [西] 西村真幸  \n",
       "201902010101   2.0   442(+4)   [西] 高橋亮  \n",
       "201902010101   1.0   428(-4)  [西] 安田翔伍  \n",
       "201902010101   5.0   442(+2)   [西] 石坂正  \n",
       "201902010101   8.0  438(+14)  [西] 藤岡健一  \n",
       "...            ...       ...       ...  \n",
       "201910020812  10.0   414(+6)  [西] 西村真幸  \n",
       "201910020812   9.0   486(+2)  [西] 今野貞一  \n",
       "201910020812   8.0   476(+6)  [西] 須貝尚介  \n",
       "201910020812  12.0   472(+2)  [西] 西園正都  \n",
       "201910020812  13.0   458(-6)  [西] 鈴木孝志  \n",
       "\n",
       "[43738 rows x 13 columns]"
      ]
     },
     "execution_count": 40,
     "metadata": {},
     "output_type": "execute_result"
    }
   ],
   "source": [
    "results3"
   ]
  },
  {
   "cell_type": "code",
   "execution_count": 41,
   "metadata": {},
   "outputs": [],
   "source": [
    "# idが同じものを繋げる\n",
    "results_addinfo = results3.merge(race_infos, left_index=True, right_index=True, how='inner')"
   ]
  },
  {
   "cell_type": "code",
   "execution_count": 43,
   "metadata": {},
   "outputs": [
    {
     "data": {
      "text/plain": [
       "0"
      ]
     },
     "execution_count": 43,
     "metadata": {},
     "output_type": "execute_result"
    }
   ],
   "source": [
    "results_addinfo['course_len'].isnull().sum() # 欠損値を確認"
   ]
  },
  {
   "cell_type": "code",
   "execution_count": 44,
   "metadata": {},
   "outputs": [],
   "source": [
    "import datetime\n",
    "\n",
    "# 関数を取得\n",
    "def preprocessing(results):\n",
    "  df = results.copy() # 関数にいれたデータを保持したまま新しいデータをコピー\n",
    "\n",
    "  # 着順に数字以外の文字列が含まれているものを取り除く\n",
    "  df = df[~(df['着 順'].astype(str).str.contains('\\D'))] # ~は否定を示す,着順で1~9以外を省いたデータを取得\n",
    "  df['着 順'] = df['着 順'].astype(int) # 整数型に変換\n",
    "  \n",
    "  # 性齢を性と年齢に分ける\n",
    "  df['性'] = df['性齢'].map(lambda x: str(x)[0]) # xに値を代入していく\n",
    "  df['年齢'] = df['性齢'].map(lambda x: str(x)[1:]).astype(int) \n",
    "\n",
    "  # 馬体重を体重と体重変化に分ける\n",
    "  df['体重'] = df['馬体重'].str.split('(', expand = True )[0].astype(int) #数字型に変換\n",
    "  df['体重変化'] = df['馬体重'].str.split('(', expand = True )[1].str[:-1].astype(int) #数字型に変換\n",
    "\n",
    "  # データをint,floatに変換\n",
    "  df['単勝'] = df['単勝'].astype(float)\n",
    "\n",
    "  # 不要な列を削除\n",
    "  df.drop(['タイム', '着差', '調教師', '性齢', '馬体重'], axis=1, inplace=True)\n",
    "\n",
    "  df['date'] = pd.to_datetime(df['date'], format='%Y年%m月%d日')\n",
    "  \n",
    "  return df"
   ]
  },
  {
   "cell_type": "code",
   "execution_count": 45,
   "metadata": {},
   "outputs": [],
   "source": [
    "test = preprocessing(results_addinfo)"
   ]
  },
  {
   "cell_type": "code",
   "execution_count": 56,
   "metadata": {},
   "outputs": [],
   "source": [
    "results_p = test"
   ]
  },
  {
   "cell_type": "code",
   "execution_count": 51,
   "metadata": {},
   "outputs": [],
   "source": [
    "sorted_id_list = test.sort_values('date').index.unique()"
   ]
  },
  {
   "cell_type": "code",
   "execution_count": 53,
   "metadata": {},
   "outputs": [
    {
     "data": {
      "text/plain": [
       "2232"
      ]
     },
     "execution_count": 53,
     "metadata": {},
     "output_type": "execute_result"
    }
   ],
   "source": [
    "round(len(sorted_id_list) * 0.7)"
   ]
  },
  {
   "cell_type": "code",
   "execution_count": 55,
   "metadata": {},
   "outputs": [],
   "source": [
    "train_id_list = sorted_id_list[:round(len(sorted_id_list) * 0.7)]\n",
    "test_id_list = sorted_id_list[round(len(sorted_id_list) * 0.7):]"
   ]
  },
  {
   "cell_type": "code",
   "execution_count": 57,
   "metadata": {},
   "outputs": [],
   "source": [
    "train = results_p.loc[train_id_list]\n",
    "test = results_p.loc[test_id_list] # テストデータ"
   ]
  },
  {
   "cell_type": "code",
   "execution_count": 58,
   "metadata": {},
   "outputs": [
    {
     "data": {
      "text/plain": [
       "30444"
      ]
     },
     "execution_count": 58,
     "metadata": {},
     "output_type": "execute_result"
    }
   ],
   "source": [
    "len(train)"
   ]
  },
  {
   "cell_type": "code",
   "execution_count": 59,
   "metadata": {},
   "outputs": [
    {
     "data": {
      "text/plain": [
       "12867"
      ]
     },
     "execution_count": 59,
     "metadata": {},
     "output_type": "execute_result"
    }
   ],
   "source": [
    "len(test)"
   ]
  },
  {
   "cell_type": "code",
   "execution_count": 60,
   "metadata": {},
   "outputs": [
    {
     "data": {
      "text/plain": [
       "43311"
      ]
     },
     "execution_count": 60,
     "metadata": {},
     "output_type": "execute_result"
    }
   ],
   "source": [
    "len(results_p)"
   ]
  },
  {
   "cell_type": "code",
   "execution_count": 62,
   "metadata": {},
   "outputs": [
    {
     "data": {
      "text/plain": [
       "0.7029161183071275"
      ]
     },
     "execution_count": 62,
     "metadata": {},
     "output_type": "execute_result"
    }
   ],
   "source": [
    "len(train) / len(results_p)"
   ]
  },
  {
   "cell_type": "code",
   "execution_count": 67,
   "metadata": {},
   "outputs": [],
   "source": [
    "def split_data(df, test_size):\n",
    "  sorted_id_list = df.sort_values('date').index.unique() # indexで並び替え\n",
    "  train_id_list = sorted_id_list[:round(len(sorted_id_list) * (1-test_size))]\n",
    "  test_id_list = sorted_id_list[round(len(sorted_id_list) * (1-test_size)):]\n",
    "  train = df.loc[train_id_list]\n",
    "  test = df.loc[test_id_list]\n",
    "  return train, test"
   ]
  },
  {
   "cell_type": "code",
   "execution_count": 90,
   "metadata": {},
   "outputs": [
    {
     "data": {
      "text/plain": [
       "Index([201906040209, 201906040209, 201906040209, 201906040209, 201906040209,\n",
       "       201906040209, 201906040209, 201906040209, 201906040209, 201906040204,\n",
       "       ...\n",
       "       201909050809, 201909050809, 201909050809, 201909050809, 201909050809,\n",
       "       201909050809, 201909050809, 201909050809, 201909050809, 201909050809],\n",
       "      dtype='int64', length=12867)"
      ]
     },
     "execution_count": 90,
     "metadata": {},
     "output_type": "execute_result"
    }
   ],
   "source": [
    "train.index.astype(int)\n",
    "test.index.astype(int)"
   ]
  },
  {
   "cell_type": "code",
   "execution_count": 69,
   "metadata": {},
   "outputs": [
    {
     "data": {
      "text/plain": [
       "30444"
      ]
     },
     "execution_count": 69,
     "metadata": {},
     "output_type": "execute_result"
    }
   ],
   "source": [
    "len(train)"
   ]
  },
  {
   "cell_type": "code",
   "execution_count": 70,
   "metadata": {},
   "outputs": [
    {
     "data": {
      "text/plain": [
       "12867"
      ]
     },
     "execution_count": 70,
     "metadata": {},
     "output_type": "execute_result"
    }
   ],
   "source": [
    "len(test)"
   ]
  },
  {
   "cell_type": "code",
   "execution_count": 71,
   "metadata": {},
   "outputs": [],
   "source": [
    "results_p.drop(['馬名'], axis=1, inplace=True)"
   ]
  },
  {
   "cell_type": "code",
   "execution_count": 72,
   "metadata": {},
   "outputs": [],
   "source": [
    "results_d = pd.get_dummies(results_p) "
   ]
  },
  {
   "cell_type": "code",
   "execution_count": 81,
   "metadata": {},
   "outputs": [],
   "source": [
    "results_d['rank'] = results_d['着 順'].map(lambda x: x if x < 4 else 4)"
   ]
  },
  {
   "cell_type": "code",
   "execution_count": 92,
   "metadata": {},
   "outputs": [],
   "source": [
    "train, test = split_data(results_d, 0.3)"
   ]
  },
  {
   "cell_type": "code",
   "execution_count": 96,
   "metadata": {},
   "outputs": [],
   "source": [
    "from imblearn.under_sampling import RandomUnderSampler\n",
    "\n",
    "rank_1 = train[\"rank\"].value_counts()[1]\n",
    "rank_2 = train[\"rank\"].value_counts()[2]\n",
    "rank_3 = train[\"rank\"].value_counts()[3]\n",
    "rus = RandomUnderSampler(\n",
    "    random_state=71, sampling_strategy={1: rank_1, 2: rank_2, 3: rank_3, 4: rank_1}\n",
    ")\n",
    "X_train = train.drop(['着 順', 'date', 'rank'], axis=1)\n",
    "y_train = train['rank']\n",
    "X_test = test.drop(['着 順', 'date', 'rank'], axis=1)\n",
    "y_test = test['rank']\n",
    "\n",
    "X_train_rus, y_train_rus = rus.fit_resample(X_train, y_train)\n"
   ]
  },
  {
   "cell_type": "code",
   "execution_count": 99,
   "metadata": {},
   "outputs": [
    {
     "name": "stdout",
     "output_type": "stream",
     "text": [
      "0.7364341085271318 0.5559182404600918\n"
     ]
    }
   ],
   "source": [
    "from sklearn.ensemble import RandomForestClassifier\n",
    "\n",
    "clf = RandomForestClassifier(random_state = 0)\n",
    "clf.fit(X_train_rus, y_train_rus)\n",
    "\n",
    "print(clf.score(X_train, y_train), clf.score(X_test,y_test))"
   ]
  },
  {
   "cell_type": "markdown",
   "metadata": {},
   "source": []
  },
  {
   "cell_type": "markdown",
   "metadata": {},
   "source": []
  }
 ],
 "metadata": {
  "kernelspec": {
   "display_name": "project_env",
   "language": "python",
   "name": "python3"
  },
  "language_info": {
   "codemirror_mode": {
    "name": "ipython",
    "version": 3
   },
   "file_extension": ".py",
   "mimetype": "text/x-python",
   "name": "python",
   "nbconvert_exporter": "python",
   "pygments_lexer": "ipython3",
   "version": "3.10.4"
  }
 },
 "nbformat": 4,
 "nbformat_minor": 2
}
